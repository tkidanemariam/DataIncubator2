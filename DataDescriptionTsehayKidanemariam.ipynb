{
 "cells": [
  {
   "cell_type": "markdown",
   "metadata": {},
   "source": [
    "# Dataset Description"
   ]
  },
  {
   "cell_type": "markdown",
   "metadata": {},
   "source": [
    "The dataset is obtained from https://data.montgomerycountymd.gov/Public-Safety/Crash-Reporting-Incidents-Data/bhju-22kf and it is about the Montgomery country in maryland traffic related accident that helps to identifies the multiple factors that involved in vehicle crash.  The dataset consist of 52,806 attributes, and 44 records, 35 attributes are categorical in nature, 8 attributes are numerical variables and one date variable.   The dependent variable of the dataset is ACR with three outcomes stated as Fatal crash, injury crash and property damage crash.   \n"
   ]
  }
 ],
 "metadata": {
  "kernelspec": {
   "display_name": "Python 3",
   "language": "python",
   "name": "python3"
  },
  "language_info": {
   "codemirror_mode": {
    "name": "ipython",
    "version": 3
   },
   "file_extension": ".py",
   "mimetype": "text/x-python",
   "name": "python",
   "nbconvert_exporter": "python",
   "pygments_lexer": "ipython3",
   "version": "3.6.6"
  }
 },
 "nbformat": 4,
 "nbformat_minor": 2
}
